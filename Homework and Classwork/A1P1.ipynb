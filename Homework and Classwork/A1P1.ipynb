{
  "nbformat": 4,
  "nbformat_minor": 0,
  "metadata": {
    "colab": {
      "name": "A1P1.ipynb",
      "provenance": []
    },
    "kernelspec": {
      "name": "python3",
      "display_name": "Python 3"
    },
    "language_info": {
      "name": "python"
    }
  },
  "cells": [
    {
      "cell_type": "code",
      "metadata": {
        "colab": {
          "base_uri": "https://localhost:8080/"
        },
        "id": "BfOZgCofQXmt",
        "outputId": "8da93ed8-8847-42b1-c422-4f6f2f980d80"
      },
      "source": [
        "import numpy as np\n",
        "\n",
        "A = np.zeros((5, 5))\n",
        "domain = [-0.5, -0.2, 0.5, 0.75, 1]\n",
        "\n",
        "A[:, 0] = 1\n",
        "for row in range(5):\n",
        "  for col in range(1, 5):\n",
        "    A[row, col] = np.power(domain[row], col)\n",
        "b = np.array([[7.625, 9.3632, 9.625, 8.7578, 8]]).T\n",
        "a = np.matmul(np.linalg.inv(A), b)\n",
        "a"
      ],
      "execution_count": 79,
      "outputs": [
        {
          "output_type": "execute_result",
          "data": {
            "text/plain": [
              "array([[ 1.00000084e+01],\n",
              "       [ 2.00003368e+00],\n",
              "       [-6.00007579e+00],\n",
              "       [-1.34736842e-04],\n",
              "       [ 2.00016842e+00]])"
            ]
          },
          "metadata": {},
          "execution_count": 79
        }
      ]
    },
    {
      "cell_type": "code",
      "metadata": {
        "id": "2QF84Go9Ti-w"
      },
      "source": [
        "from numpy.polynomial import Polynomial\n",
        "poly = np.poly1d(np.flip(np.squeeze(a)))\n"
      ],
      "execution_count": 80,
      "outputs": []
    },
    {
      "cell_type": "code",
      "metadata": {
        "id": "H1Eytn3NVnAw"
      },
      "source": [
        "#def poly(x, a):\n",
        "#  return a[0] * np.power(x, 0) + a[1] * np.power(x, 1) + \\\n",
        "#         a[2] * np.power(x, 2) + a[3] * np.power(x, 3) + \\\n",
        "#         a[4] * np.power(x, 4)"
      ],
      "execution_count": 81,
      "outputs": []
    },
    {
      "cell_type": "code",
      "metadata": {
        "colab": {
          "base_uri": "https://localhost:8080/",
          "height": 282
        },
        "id": "QCSMFyrLTyGe",
        "outputId": "6f1f2219-f923-4458-9b10-c97679da52ed"
      },
      "source": [
        "sample = np.linspace(-2, 2, 100)\n",
        "fvals = poly(sample)\n",
        "\n",
        "import matplotlib.pyplot as plt\n",
        "\n",
        "\n",
        "plt.figure()\n",
        "plt.plot(sample, fvals)\n",
        "plt.plot(domain, b, 'ro')"
      ],
      "execution_count": 82,
      "outputs": [
        {
          "output_type": "execute_result",
          "data": {
            "text/plain": [
              "[<matplotlib.lines.Line2D at 0x7fe45e39f0d0>]"
            ]
          },
          "metadata": {},
          "execution_count": 82
        },
        {
          "output_type": "display_data",
          "data": {
            "image/png": "[encoded data removed]",
            "text/plain": [
              "<Figure size 432x288 with 1 Axes>"
            ]
          },
          "metadata": {
            "needs_background": "light"
          }
        }
      ]
    }
  ]
}